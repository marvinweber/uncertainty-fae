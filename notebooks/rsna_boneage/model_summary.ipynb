{
 "cells": [
  {
   "attachments": {},
   "cell_type": "markdown",
   "metadata": {},
   "source": [
    "# Model SUmmary RSNA Bone Age"
   ]
  },
  {
   "cell_type": "code",
   "execution_count": 1,
   "metadata": {},
   "outputs": [
    {
     "name": "stderr",
     "output_type": "stream",
     "text": [
      "/usr/local/lib/python3.10/dist-packages/pkg_resources/__init__.py:123: PkgResourcesDeprecationWarning: 0.23ubuntu1 is an invalid version and will not be supported in a future release\n",
      "  warnings.warn(\n"
     ]
    }
   ],
   "source": [
    "from rsna_boneage.litmodel import LitRSNABoneage\n",
    "from rsna_boneage.model_provider import _get_resnet\n",
    "from rsna_boneage.data import RSNABoneageDataModule\n",
    "from torchinfo import summary\n",
    "\n",
    "batch_size = 8\n",
    "annotation_file_train = \"/data_fae_uq/rsna_boneage/train_annotations.csv\"\n",
    "img_train_base_dir = \"/data_fae_uq/rsna_boneage/train_val\"\n",
    "\n",
    "datamodule = RSNABoneageDataModule(\n",
    "    annotation_file_train=annotation_file_train,\n",
    "    annotation_file_val=None,\n",
    "    annotation_file_test=None,\n",
    "    img_train_base_dir=img_train_base_dir,\n",
    "    batch_size=batch_size,\n",
    "    with_gender_input=True,\n",
    "    target_dimensions=(500, 500),\n",
    "    num_workers=1,\n",
    ")\n",
    "datamodule.setup(\"train\")\n",
    "x, y = next(iter(datamodule.train_dataloader()))\n"
   ]
  },
  {
   "attachments": {},
   "cell_type": "markdown",
   "metadata": {},
   "source": [
    "### High Level Summary\n",
    "\n",
    "Summary without ResNet Details"
   ]
  },
  {
   "cell_type": "code",
   "execution_count": 2,
   "metadata": {},
   "outputs": [
    {
     "data": {
      "text/plain": [
       "========================================================================================================================\n",
       "Layer (type)                                  Input Shape               Output Shape              Param #\n",
       "========================================================================================================================\n",
       "LitRSNABoneage                                [8, 3, 500, 500]          [8, 1]                    --\n",
       "+ RSNABoneageResNetWithGender                 --                        --                        --\n",
       "|    + ResNet                                 --                        --                        --\n",
       "|    |    + Conv2d                            [8, 3, 500, 500]          [8, 64, 250, 250]         9,408\n",
       "|    |    + BatchNorm2d                       [8, 64, 250, 250]         [8, 64, 250, 250]         128\n",
       "|    |    + ReLU                              [8, 64, 250, 250]         [8, 64, 250, 250]         --\n",
       "|    |    + MaxPool2d                         [8, 64, 250, 250]         [8, 64, 125, 125]         --\n",
       "|    |    + Sequential                        [8, 64, 125, 125]         [8, 256, 125, 125]        215,808\n",
       "|    |    + Sequential                        [8, 256, 125, 125]        [8, 512, 63, 63]          1,219,584\n",
       "|    |    + Sequential                        [8, 512, 63, 63]          [8, 1024, 32, 32]         7,098,368\n",
       "|    |    + Sequential                        [8, 1024, 32, 32]         [8, 2048, 16, 16]         14,964,736\n",
       "|    |    + AdaptiveAvgPool2d                 [8, 2048, 16, 16]         [8, 2048, 1, 1]           --\n",
       "|    |    + Linear                            [8, 2048]                 [8, 1000]                 2,049,000\n",
       "|    + ReLU                                   [8, 1000]                 [8, 1000]                 --\n",
       "|    + Linear                                 [8, 1]                    [8, 32]                   64\n",
       "|    + ReLU                                   [8, 32]                   [8, 32]                   --\n",
       "|    + Linear                                 [8, 1032]                 [8, 1000]                 1,033,000\n",
       "|    + ReLU                                   [8, 1000]                 [8, 1000]                 --\n",
       "|    + Dropout                                [8, 1000]                 [8, 1000]                 --\n",
       "|    + Linear                                 [8, 1000]                 [8, 1]                    1,001\n",
       "========================================================================================================================\n",
       "Total params: 26,591,097\n",
       "Trainable params: 26,591,097\n",
       "Non-trainable params: 0\n",
       "Total mult-adds (G): 167.80\n",
       "========================================================================================================================\n",
       "Input size (MB): 24.00\n",
       "Forward/backward pass size (MB): 7198.00\n",
       "Params size (MB): 106.36\n",
       "Estimated Total Size (MB): 7328.36\n",
       "========================================================================================================================"
      ]
     },
     "execution_count": 2,
     "metadata": {},
     "output_type": "execute_result"
    }
   ],
   "source": [
    "output_neurons = 1  # not a variance net\n",
    "resnet = _get_resnet(\"resnet50\", True, with_pretrained_weights_if_avail=False)\n",
    "model = LitRSNABoneage(net=resnet)\n",
    "\n",
    "summary(\n",
    "    model,\n",
    "    input_data=[x],\n",
    "    col_names=[\"input_size\", \"output_size\", \"num_params\"],\n",
    "    depth=3,\n",
    "    row_settings=[\"ascii_only\"],\n",
    ")\n"
   ]
  }
 ],
 "metadata": {
  "kernelspec": {
   "display_name": "Python 3.10.8 64-bit",
   "language": "python",
   "name": "python3"
  },
  "language_info": {
   "codemirror_mode": {
    "name": "ipython",
    "version": 3
   },
   "file_extension": ".py",
   "mimetype": "text/x-python",
   "name": "python",
   "nbconvert_exporter": "python",
   "pygments_lexer": "ipython3",
   "version": "3.10.8"
  },
  "orig_nbformat": 4,
  "vscode": {
   "interpreter": {
    "hash": "97cc609b13305c559618ec78a438abc56230b9381f827f22d070313b9a1f3777"
   }
  }
 },
 "nbformat": 4,
 "nbformat_minor": 2
}
