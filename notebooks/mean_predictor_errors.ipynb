{
 "cells": [
  {
   "attachments": {},
   "cell_type": "markdown",
   "metadata": {},
   "source": [
    "# Mean Prediction Errors\n",
    "Errors resulting from always predicting the mean of the entire dataset."
   ]
  },
  {
   "cell_type": "code",
   "execution_count": 1,
   "metadata": {},
   "outputs": [],
   "source": [
    "import os\n",
    "import pandas as pd\n"
   ]
  },
  {
   "attachments": {},
   "cell_type": "markdown",
   "metadata": {},
   "source": [
    "### Configuration"
   ]
  },
  {
   "cell_type": "code",
   "execution_count": 2,
   "metadata": {},
   "outputs": [],
   "source": [
    "clavicle_annots = {\n",
    "    \"train\": \"/data_fae_uq/clavicle_ct/annotations_train.csv\",\n",
    "    \"val\": \"/data_fae_uq/clavicle_ct/annotations_val.csv\",\n",
    "    \"test\": \"/data_fae_uq/clavicle_ct/annotations_test.csv\",\n",
    "}\n",
    "save_dir_clavicle = \"/ml_eval\"\n",
    "rsna_annots = {\n",
    "    \"train\": \"/data_fae_uq/rsna_boneage/train_annotations.csv\",\n",
    "    \"val\": \"/data_fae_uq/rsna_boneage/val_annotations.csv\",\n",
    "    \"test\": \"/data_fae_uq/rsna_boneage/test_annotations.csv\",\n",
    "}\n",
    "save_dir_rsna = \"/ml_eval\"\n"
   ]
  },
  {
   "cell_type": "code",
   "execution_count": 3,
   "metadata": {},
   "outputs": [],
   "source": [
    "clavicle_dfs = {dt: pd.read_csv(file) for dt, file in clavicle_annots.items()}\n",
    "rsna_dfs = {dt: pd.read_csv(file) for dt, file in rsna_annots.items()}\n"
   ]
  },
  {
   "attachments": {},
   "cell_type": "markdown",
   "metadata": {},
   "source": [
    "### Mean Calculation\n",
    "\n",
    "To test a \"realistic\" scenario, the Mean-Predictor uses Mean from the Training Data\n",
    "(which is used by a normal trained model too) to predict every sample with it."
   ]
  },
  {
   "cell_type": "code",
   "execution_count": 4,
   "metadata": {},
   "outputs": [
    {
     "name": "stdout",
     "output_type": "stream",
     "text": [
      "RSNA Boneage Mean: 127.46392993979201\n",
      "Clavicle CT Mean: 8592.623863636363\n"
     ]
    }
   ],
   "source": [
    "rsna_mean = rsna_dfs[\"train\"][\"boneage\"].mean()  #\n",
    "clavicle_mean = clavicle_dfs[\"train\"][\"age\"].mean()\n",
    "\n",
    "print(\"RSNA Boneage Mean:\", rsna_mean)\n",
    "print(\"Clavicle CT Mean:\", clavicle_mean)\n"
   ]
  },
  {
   "attachments": {},
   "cell_type": "markdown",
   "metadata": {},
   "source": [
    "### Generate Mean-Prediction-Errors"
   ]
  },
  {
   "cell_type": "code",
   "execution_count": 5,
   "metadata": {},
   "outputs": [
    {
     "name": "stdout",
     "output_type": "stream",
     "text": [
      "RSNA Bone Age train 33.77528768287162\n",
      "RSNA Bone Age val 33.13620350310805\n",
      "RSNA Bone Age test 32.92509299105175\n",
      "Clavicle CT train 1230.0242469008265\n",
      "Clavicle CT val 1401.3006742424243\n",
      "Clavicle CT test 1406.8448333333333\n"
     ]
    }
   ],
   "source": [
    "for df in clavicle_dfs.values():\n",
    "    df[\"target\"] = df[\"age\"]\n",
    "    df[\"prediction\"] = clavicle_mean\n",
    "    df[\"error\"] = abs(df[\"target\"] - df[\"prediction\"])\n",
    "\n",
    "for df in rsna_dfs.values():\n",
    "    df[\"target\"] = df[\"boneage\"]\n",
    "    df[\"prediction\"] = rsna_mean\n",
    "    df[\"error\"] = abs(df[\"target\"] - df[\"prediction\"])\n",
    "\n",
    "for data_type, dfs in zip([\"RSNA Bone Age\", \"Clavicle CT\"], [rsna_dfs, clavicle_dfs]):\n",
    "    for set_type in [\"train\", \"val\", \"test\"]:\n",
    "        print(data_type, set_type, dfs[set_type][\"error\"].mean())\n"
   ]
  },
  {
   "attachments": {},
   "cell_type": "markdown",
   "metadata": {},
   "source": [
    "### Save DataFrames"
   ]
  },
  {
   "cell_type": "code",
   "execution_count": 6,
   "metadata": {},
   "outputs": [],
   "source": [
    "for save_dir, data_type, dfs in zip(\n",
    "    [save_dir_rsna, save_dir_clavicle],\n",
    "    [\"rsna_boneage\", \"clavicle_ct\"],\n",
    "    [rsna_dfs, clavicle_dfs],\n",
    "):\n",
    "    os.makedirs(save_dir, exist_ok=True)\n",
    "    for set_type in [\"train\", \"val\", \"test\"]:\n",
    "        filename = os.path.join(\n",
    "            save_dir,\n",
    "            \"_\".join([\"mean_predictor_model_errors\", data_type, set_type]) + \".csv\",\n",
    "        )\n",
    "        dfs[set_type][[\"target\", \"prediction\", \"error\"]].to_csv(filename)\n"
   ]
  }
 ],
 "metadata": {
  "kernelspec": {
   "display_name": "Python 3",
   "language": "python",
   "name": "python3"
  },
  "language_info": {
   "codemirror_mode": {
    "name": "ipython",
    "version": 3
   },
   "file_extension": ".py",
   "mimetype": "text/x-python",
   "name": "python",
   "nbconvert_exporter": "python",
   "pygments_lexer": "ipython3",
   "version": "3.10.8"
  },
  "orig_nbformat": 4,
  "vscode": {
   "interpreter": {
    "hash": "97cc609b13305c559618ec78a438abc56230b9381f827f22d070313b9a1f3777"
   }
  }
 },
 "nbformat": 4,
 "nbformat_minor": 2
}
