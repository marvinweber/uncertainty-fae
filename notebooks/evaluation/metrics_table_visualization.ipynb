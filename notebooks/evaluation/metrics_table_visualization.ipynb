{
 "cells": [
  {
   "cell_type": "code",
   "execution_count": 1,
   "metadata": {},
   "outputs": [],
   "source": [
    "import pandas as pd\n",
    "import yaml\n",
    "import os"
   ]
  },
  {
   "attachments": {},
   "cell_type": "markdown",
   "metadata": {},
   "source": [
    "## Configuration\n",
    "### Files and Precision"
   ]
  },
  {
   "cell_type": "code",
   "execution_count": 2,
   "metadata": {},
   "outputs": [],
   "source": [
    "precision = 3\n",
    "\n",
    "# RSNA Bone Age\n",
    "rsna_stats_csv_file = \"/app/results/aggregated_stats/rsna_test_best_err_uq_stats.csv\"\n",
    "rsna_uq_by_error_aucs_csv_file = (\n",
    "    \"/app/results/aggregated_stats/rsna_test_best_uncertainty_by_error_aucs.csv\"\n",
    ")\n",
    "rsna_uq_reorder_ranks_csv_file = (\n",
    "    \"/app/results/aggregated_stats/rsna_test_best_uq_by_error_reorder_ranks.csv\"\n",
    ")\n",
    "\n",
    "# Clavicle CT\n",
    "clavicle_stats_csv_file = \"/app/results/aggregated_stats/clavicle_test_best_err_uq_stats.csv\"\n",
    "clavicle_uq_by_error_aucs_csv_file = (\n",
    "    \"/app/results/aggregated_stats/clavicle_test_best_uncertainty_by_error_aucs.csv\"\n",
    ")\n",
    "clavicle_uq_reorder_ranks_csv_file = (\n",
    "    \"/app/results/aggregated_stats/clavicle_test_best_uncertainty_by_error_reorder_ranks.csv\"\n",
    ")\n"
   ]
  },
  {
   "attachments": {},
   "cell_type": "markdown",
   "metadata": {},
   "source": [
    "### Column Names"
   ]
  },
  {
   "cell_type": "code",
   "execution_count": 3,
   "metadata": {},
   "outputs": [],
   "source": [
    "COLUMN_NAMES = {\n",
    "    # General\n",
    "    \"name\": \"Model\",\n",
    "    # Error/ UQ Stats\n",
    "    \"error\": \"Error ± Std\",\n",
    "    \"error_median\": \"Error Median\",\n",
    "    \"uq\": \"Uncertainty ± Std\",\n",
    "    \"uncertainty_median\": \"Uncertainty Median\",\n",
    "    # Uncertainty by Error AUCs\n",
    "    \"mean_line_auc\": \"Mean AUC\",\n",
    "    \"mean_to_half\": \"Mean-To-Half\",\n",
    "    \"min_line_auc\": \"Min AUC\",\n",
    "    \"min_to_half\": \"Min-To-Half\",\n",
    "    # Reorder Ranks\n",
    "    \"sort_min_swaps_rank\": \"Min Swaps\",\n",
    "    \"sort_avg_idx_distance\": \"Avg. Index Distance\",\n",
    "    \"sort_avg_idx_right_move\": \"Avg. Right-Move\",\n",
    "    \"sort_idx_right_move_count\": \"Right-Move Counts\",\n",
    "    \"sort_avg_idx_distance_norm\": \"Avg. Index Distance Normed\",\n",
    "    \"sort_avg_idx_right_move_norm\": \"Avg. Right-Move Normed\",\n",
    "}\n",
    "\n",
    "STATS_MARKDOWN_COLS = [\n",
    "    COLUMN_NAMES[key] for key in [\"name\", \"error\", \"error_median\", \"uq\", \"uncertainty_median\"]\n",
    "]\n",
    "UQ_BY_ERROR_AUCS_MARDOWN_COLS = [\n",
    "    COLUMN_NAMES[key]\n",
    "    for key in [\"name\", \"mean_line_auc\", \"mean_to_half\", \"min_line_auc\", \"min_to_half\"]\n",
    "]\n",
    "UQ_BY_ERROR_REORDER_RANKS_COLS = [\n",
    "    COLUMN_NAMES[key]\n",
    "    for key in [\n",
    "        \"name\",\n",
    "        \"sort_min_swaps_rank\",\n",
    "        \"sort_avg_idx_distance\",\n",
    "        \"sort_avg_idx_distance_norm\",\n",
    "        \"sort_avg_idx_right_move\",\n",
    "        \"sort_avg_idx_right_move_norm\",\n",
    "        \"sort_idx_right_move_count\",\n",
    "    ]\n",
    "]\n"
   ]
  },
  {
   "attachments": {},
   "cell_type": "markdown",
   "metadata": {},
   "source": [
    "## Util Functions"
   ]
  },
  {
   "cell_type": "code",
   "execution_count": 4,
   "metadata": {},
   "outputs": [],
   "source": [
    "format_fn = lambda x: \"{:#.{prec}f}\".format(x, prec=precision)\n",
    "\n",
    "\n",
    "def postprocess_stats_df(df: pd.DataFrame) -> pd.DataFrame:\n",
    "    df[\"error\"] = df[\"error_mean\"].apply(format_fn) + \" ± \" + df[\"error_std\"].apply(format_fn)\n",
    "    df[\"uq\"] = (\n",
    "        df[\"uncertainty_mean\"].apply(format_fn) + \" ± \" + df[\"uncertainty_std\"].apply(format_fn)\n",
    "    )\n",
    "    df[\"error_median\"] = df[\"error_median\"].apply(format_fn)\n",
    "    df[\"uncertainty_median\"] = df[\"uncertainty_median\"].apply(format_fn)\n",
    "    return df\n",
    "\n",
    "\n",
    "def postprocess_uq_by_error_aucs_df(df: pd.DataFrame) -> pd.DataFrame:\n",
    "    for col in [\"mean_line_auc\", \"mean_to_half\", \"min_line_auc\", \"min_to_half\"]:\n",
    "        df[col] = df[col].apply(format_fn)\n",
    "    return df\n",
    "\n",
    "\n",
    "def postprocess_uq_by_error_ranks_df(df: pd.DataFrame) -> pd.DataFrame:\n",
    "    df = df.round(\n",
    "        {\n",
    "            \"sort_avg_idx_distance\": 1,\n",
    "            \"sort_avg_idx_right_move\": 1,\n",
    "            \"sort_avg_idx_distance_norm\": 3,\n",
    "            \"sort_avg_idx_right_move_norm\": 3,\n",
    "        }\n",
    "    )\n",
    "    return df\n",
    "\n",
    "\n",
    "def update_col_names(df: pd.DataFrame) -> pd.DataFrame:\n",
    "    return df.rename(COLUMN_NAMES, inplace=False, axis=1)\n"
   ]
  },
  {
   "attachments": {},
   "cell_type": "markdown",
   "metadata": {},
   "source": [
    "## RSNA Bone Age"
   ]
  },
  {
   "cell_type": "code",
   "execution_count": 5,
   "metadata": {},
   "outputs": [],
   "source": [
    "rsna_df_stats = postprocess_stats_df(pd.read_csv(rsna_stats_csv_file))\n",
    "rsna_df_uq_by_error_aucs = postprocess_uq_by_error_aucs_df(\n",
    "    pd.read_csv(rsna_uq_by_error_aucs_csv_file)\n",
    ")\n",
    "rsna_df_uq_reorder_ranks = postprocess_uq_by_error_ranks_df(\n",
    "    pd.read_csv(rsna_uq_reorder_ranks_csv_file)\n",
    ")\n"
   ]
  },
  {
   "attachments": {},
   "cell_type": "markdown",
   "metadata": {},
   "source": [
    "### Markdown Tables\n",
    "\n",
    "#### Error / UQ Stats"
   ]
  },
  {
   "cell_type": "code",
   "execution_count": 6,
   "metadata": {},
   "outputs": [
    {
     "name": "stdout",
     "output_type": "stream",
     "text": [
      "| Model          | Error ± Std   |   Error Median | Uncertainty ± Std   |   Uncertainty Median |\n",
      "|:---------------|:--------------|---------------:|:--------------------|---------------------:|\n",
      "| Mean-Predictor | 2.744 ± 1.949 |          2.378 | nan ± nan           |              nan     |\n",
      "| Baseline       | 0.552 ± 0.488 |          0.415 | nan ± nan           |              nan     |\n",
      "| MCDO-10        | 0.561 ± 0.490 |          0.432 | 0.357 ± 0.159       |                0.343 |\n",
      "| MCDO-100       | 0.553 ± 0.491 |          0.419 | 0.369 ± 0.137       |                0.379 |\n",
      "| DE-10          | 0.530 ± 0.472 |          0.411 | 0.234 ± 0.092       |                0.22  |\n",
      "| DE-20          | 0.526 ± 0.470 |          0.402 | 0.234 ± 0.084       |                0.22  |\n",
      "| LA             | 0.551 ± 0.482 |          0.42  | 0.446 ± 0.066       |                0.438 |\n",
      "| SWAG           | 0.568 ± 0.496 |          0.43  | 0.854 ± 0.262       |                0.789 |\n",
      "| SWAG-NO-WD     | 0.815 ± 0.660 |          0.646 | 1.805 ± 1.031       |                1.42  |\n",
      "| VAR-MCDO-10    | 0.597 ± 0.500 |          0.476 | 0.974 ± 0.198       |                1.008 |\n",
      "| VAR-MCDO-100   | 0.569 ± 0.483 |          0.455 | 0.980 ± 0.183       |                1.029 |\n",
      "| VAR-DE-10      | 0.545 ± 0.467 |          0.431 | 0.832 ± 0.139       |                0.863 |\n",
      "| VAR-DE-20      | 0.545 ± 0.463 |          0.432 | 0.831 ± 0.149       |                0.868 |\n"
     ]
    }
   ],
   "source": [
    "print(update_col_names(rsna_df_stats)[STATS_MARKDOWN_COLS].to_markdown(index=False))\n"
   ]
  },
  {
   "attachments": {},
   "cell_type": "markdown",
   "metadata": {},
   "source": [
    "#### Uncertainty by Error AUCs"
   ]
  },
  {
   "cell_type": "code",
   "execution_count": 7,
   "metadata": {},
   "outputs": [
    {
     "name": "stdout",
     "output_type": "stream",
     "text": [
      "| Model        |   Mean AUC |   Mean-To-Half |   Min AUC |   Min-To-Half |\n",
      "|:-------------|-----------:|---------------:|----------:|--------------:|\n",
      "| MCDO-10      |      0     |          0.5   |     0.21  |         0.29  |\n",
      "| MCDO-100     |      0.167 |          0.333 |     0.235 |         0.265 |\n",
      "| DE-10        |      0.731 |          0.231 |     0.178 |         0.322 |\n",
      "| DE-20        |      0.533 |          0.033 |     0.558 |         0.058 |\n",
      "| LA           |      0.167 |          0.333 |     0.323 |         0.177 |\n",
      "| SWAG         |      0.571 |          0.071 |     0.182 |         0.318 |\n",
      "| SWAG-NO-WD   |      0.41  |          0.09  |     0.252 |         0.248 |\n",
      "| VAR-MCDO-10  |      0     |          0.5   |     0.549 |         0.049 |\n",
      "| VAR-MCDO-100 |      0.215 |          0.285 |     0.347 |         0.153 |\n",
      "| VAR-DE-10    |      0.246 |          0.254 |     0.372 |         0.128 |\n",
      "| VAR-DE-20    |      0.348 |          0.152 |     0.306 |         0.194 |\n"
     ]
    }
   ],
   "source": [
    "print(\n",
    "    update_col_names(rsna_df_uq_by_error_aucs)[UQ_BY_ERROR_AUCS_MARDOWN_COLS].to_markdown(\n",
    "        index=False\n",
    "    )\n",
    ")\n"
   ]
  },
  {
   "attachments": {},
   "cell_type": "markdown",
   "metadata": {},
   "source": [
    "#### Uncertainty Reorder Ranks"
   ]
  },
  {
   "cell_type": "code",
   "execution_count": 8,
   "metadata": {},
   "outputs": [
    {
     "name": "stdout",
     "output_type": "stream",
     "text": [
      "| Model        |   Min Swaps |   Avg. Index Distance |   Avg. Index Distance Normed |   Avg. Right-Move |   Avg. Right-Move Normed |   Right-Move Counts |\n",
      "|:-------------|------------:|----------------------:|-----------------------------:|------------------:|-------------------------:|--------------------:|\n",
      "| MCDO-10      |        1227 |                 420.9 |                        0.682 |             210.4 |                    0.341 |                 624 |\n",
      "| MCDO-100     |        1230 |                 439.7 |                        0.713 |             219.9 |                    0.356 |                 617 |\n",
      "| DE-10        |        1228 |                 384.5 |                        0.623 |             192.3 |                    0.312 |                 623 |\n",
      "| DE-20        |        1227 |                 375.9 |                        0.609 |             188   |                    0.305 |                 641 |\n",
      "| LA           |        1221 |                 391.1 |                        0.634 |             195.5 |                    0.317 |                 615 |\n",
      "| SWAG         |        1226 |                 388.3 |                        0.629 |             194.2 |                    0.315 |                 618 |\n",
      "| SWAG-NO-WD   |        1224 |                 326   |                        0.528 |             163   |                    0.264 |                 594 |\n",
      "| VAR-MCDO-10  |        1227 |                 410.5 |                        0.665 |             205.2 |                    0.333 |                 616 |\n",
      "| VAR-MCDO-100 |        1230 |                 407.3 |                        0.66  |             203.7 |                    0.33  |                 593 |\n",
      "| VAR-DE-10    |        1225 |                 423.3 |                        0.686 |             211.7 |                    0.343 |                 608 |\n",
      "| VAR-DE-20    |        1229 |                 427.9 |                        0.693 |             213.9 |                    0.347 |                 602 |\n"
     ]
    }
   ],
   "source": [
    "print(\n",
    "    update_col_names(rsna_df_uq_reorder_ranks)[UQ_BY_ERROR_REORDER_RANKS_COLS].to_markdown(\n",
    "        index=False\n",
    "    )\n",
    ")\n"
   ]
  },
  {
   "attachments": {},
   "cell_type": "markdown",
   "metadata": {},
   "source": [
    "### Latex Tables\n",
    "\n",
    "#### Error / UQ Stats"
   ]
  },
  {
   "cell_type": "code",
   "execution_count": 9,
   "metadata": {},
   "outputs": [
    {
     "name": "stdout",
     "output_type": "stream",
     "text": [
      "\\begin{tabular}{lrr}\n",
      "name & error & uq \\\\\n",
      "Mean-Predictor & 2.744 ± 1.949 & nan ± nan \\\\\n",
      "Baseline & 0.552 ± 0.488 & nan ± nan \\\\\n",
      "MCDO-10 & 0.561 ± 0.490 & 0.357 ± 0.159 \\\\\n",
      "MCDO-100 & 0.553 ± 0.491 & 0.369 ± 0.137 \\\\\n",
      "DE-10 & 0.530 ± 0.472 & 0.234 ± 0.092 \\\\\n",
      "DE-20 & \\bfseries 0.526 ± 0.470 & 0.234 ± 0.084 \\\\\n",
      "LA & 0.551 ± 0.482 & 0.446 ± 0.066 \\\\\n",
      "SWAG & 0.568 ± 0.496 & 0.854 ± 0.262 \\\\\n",
      "SWAG-NO-WD & 0.815 ± 0.660 & 1.805 ± 1.031 \\\\\n",
      "VAR-MCDO-10 & 0.597 ± 0.500 & 0.974 ± 0.198 \\\\\n",
      "VAR-MCDO-100 & 0.569 ± 0.483 & 0.980 ± 0.183 \\\\\n",
      "VAR-DE-10 & 0.545 ± 0.467 & 0.832 ± 0.139 \\\\\n",
      "VAR-DE-20 & 0.545 ± 0.463 & 0.831 ± 0.149 \\\\\n",
      "\\end{tabular}\n",
      "\n"
     ]
    }
   ],
   "source": [
    "print(\n",
    "    rsna_df_stats[[\"name\", \"error\", \"uq\"]]\n",
    "    .style.highlight_min(subset=[\"error\"], props=\"bfseries: ;\")\n",
    "    .hide(level=0, axis=0)\n",
    "    .format()\n",
    "    .to_latex(column_format=\"lrr\")\n",
    ")\n"
   ]
  },
  {
   "attachments": {},
   "cell_type": "markdown",
   "metadata": {},
   "source": [
    "#### Uncertainty Reorder Ranks"
   ]
  },
  {
   "cell_type": "code",
   "execution_count": 10,
   "metadata": {},
   "outputs": [
    {
     "name": "stdout",
     "output_type": "stream",
     "text": [
      "\\begin{tabular}{lrr}\n",
      "name & sort_avg_idx_distance & sort_avg_idx_distance_norm \\\\\n",
      "MCDO-10 & 420.9 & 0.682 \\\\\n",
      "MCDO-100 & 439.7 & 0.713 \\\\\n",
      "DE-10 & 384.5 & 0.623 \\\\\n",
      "DE-20 & 375.9 & 0.609 \\\\\n",
      "LA & 391.1 & 0.634 \\\\\n",
      "SWAG & 388.3 & 0.629 \\\\\n",
      "SWAG-NO-WD & \\bfseries 326.0 & \\bfseries 0.528 \\\\\n",
      "VAR-MCDO-10 & 410.5 & 0.665 \\\\\n",
      "VAR-MCDO-100 & 407.3 & 0.660 \\\\\n",
      "VAR-DE-10 & 423.3 & 0.686 \\\\\n",
      "VAR-DE-20 & 427.9 & 0.693 \\\\\n",
      "\\end{tabular}\n",
      "\n"
     ]
    }
   ],
   "source": [
    "print(\n",
    "    rsna_df_uq_reorder_ranks[[\"name\", \"sort_avg_idx_distance\", \"sort_avg_idx_distance_norm\"]]\n",
    "    .style.highlight_min(\n",
    "        subset=[\"sort_avg_idx_distance\", \"sort_avg_idx_distance_norm\"], props=\"bfseries: ;\"\n",
    "    )\n",
    "    .hide(level=0, axis=0)\n",
    "    .format(subset=\"sort_avg_idx_distance\", precision=1)\n",
    "    .format(subset=\"sort_avg_idx_distance_norm\", precision=3)\n",
    "    .to_latex()\n",
    ")\n"
   ]
  },
  {
   "attachments": {},
   "cell_type": "markdown",
   "metadata": {},
   "source": [
    "## Clavicle CT"
   ]
  },
  {
   "cell_type": "code",
   "execution_count": 11,
   "metadata": {},
   "outputs": [],
   "source": [
    "clavicle_df_stats = postprocess_stats_df(pd.read_csv(clavicle_stats_csv_file))\n",
    "clavicle_df_uq_by_error_aucs = postprocess_uq_by_error_aucs_df(\n",
    "    pd.read_csv(clavicle_uq_by_error_aucs_csv_file)\n",
    ")\n",
    "clavicle_df_uq_reorder_ranks = postprocess_uq_by_error_ranks_df(\n",
    "    pd.read_csv(clavicle_uq_reorder_ranks_csv_file)\n",
    ")\n"
   ]
  },
  {
   "attachments": {},
   "cell_type": "markdown",
   "metadata": {},
   "source": [
    "### Markdown Tables\n",
    "\n",
    "#### Error / UQ Stats"
   ]
  },
  {
   "cell_type": "code",
   "execution_count": 12,
   "metadata": {},
   "outputs": [
    {
     "name": "stdout",
     "output_type": "stream",
     "text": [
      "| Model          | Error ± Std   |   Error Median | Uncertainty ± Std   |   Uncertainty Median |\n",
      "|:---------------|:--------------|---------------:|:--------------------|---------------------:|\n",
      "| Mean-Predictor | 3.852 ± 2.308 |          3.897 | nan ± nan           |              nan     |\n",
      "| Baseline       | 1.597 ± 1.267 |          1.314 | nan ± nan           |              nan     |\n",
      "| MCDO-10        | 1.593 ± 1.270 |          1.304 | 0.635 ± 0.328       |                0.599 |\n",
      "| MCDO-100       | 1.594 ± 1.266 |          1.291 | 0.654 ± 0.277       |                0.663 |\n",
      "| DE-10          | 1.510 ± 1.170 |          1.264 | 1.504 ± 0.601       |                1.38  |\n",
      "| DE-20          | 1.502 ± 1.168 |          1.251 | 1.511 ± 0.531       |                1.43  |\n",
      "| LA             | 1.590 ± 1.324 |          1.355 | 1.241 ± 0.346       |                1.139 |\n",
      "| SWAG           | 1.548 ± 1.347 |          1.091 | 2.359 ± 0.601       |                2.272 |\n",
      "| SWAG-NO-WD     | 1.730 ± 1.392 |          1.463 | 1.826 ± 0.368       |                1.801 |\n",
      "| VAR-MCDO-10    | 2.110 ± 1.660 |          1.638 | 3.958 ± 0.630       |                4.029 |\n",
      "| VAR-MCDO-100   | 2.073 ± 1.658 |          1.646 | 3.949 ± 0.628       |                4.038 |\n",
      "| VAR-DE-10      | 1.776 ± 1.323 |          1.472 | 4.271 ± 0.706       |                4.467 |\n",
      "| VAR-DE-20      | 1.753 ± 1.298 |          1.448 | 4.171 ± 0.684       |                4.359 |\n"
     ]
    }
   ],
   "source": [
    "print(update_col_names(clavicle_df_stats)[STATS_MARKDOWN_COLS].to_markdown(index=False))\n"
   ]
  },
  {
   "attachments": {},
   "cell_type": "markdown",
   "metadata": {},
   "source": [
    "#### Uncertainty by Error AUCs"
   ]
  },
  {
   "cell_type": "code",
   "execution_count": 13,
   "metadata": {},
   "outputs": [
    {
     "name": "stdout",
     "output_type": "stream",
     "text": [
      "| Model        |   Mean AUC |   Mean-To-Half |   Min AUC |   Min-To-Half |\n",
      "|:-------------|-----------:|---------------:|----------:|--------------:|\n",
      "| MCDO-10      |      0.178 |          0.322 |     0.201 |         0.299 |\n",
      "| MCDO-100     |      0.447 |          0.053 |     0.283 |         0.217 |\n",
      "| DE-10        |      0     |          0.5   |     0.578 |         0.078 |\n",
      "| DE-20        |      0.789 |          0.289 |     0.467 |         0.033 |\n",
      "| LA           |      0.131 |          0.369 |     0.262 |         0.238 |\n",
      "| SWAG         |      0     |          0.5   |     0.466 |         0.034 |\n",
      "| SWAG-NO-WD   |      0     |          0.5   |     0.698 |         0.198 |\n",
      "| VAR-MCDO-10  |      0.254 |          0.246 |     0.498 |         0.002 |\n",
      "| VAR-MCDO-100 |      0.545 |          0.045 |     0.562 |         0.062 |\n",
      "| VAR-DE-10    |      0.143 |          0.357 |     0.486 |         0.014 |\n",
      "| VAR-DE-20    |      0.143 |          0.357 |     0.451 |         0.049 |\n"
     ]
    }
   ],
   "source": [
    "print(\n",
    "    update_col_names(clavicle_df_uq_by_error_aucs)[UQ_BY_ERROR_AUCS_MARDOWN_COLS].to_markdown(\n",
    "        index=False\n",
    "    )\n",
    ")\n"
   ]
  },
  {
   "attachments": {},
   "cell_type": "markdown",
   "metadata": {},
   "source": [
    "#### Uncertainty Reorder Ranks"
   ]
  },
  {
   "cell_type": "code",
   "execution_count": 14,
   "metadata": {},
   "outputs": [
    {
     "name": "stdout",
     "output_type": "stream",
     "text": [
      "| Model        |   Min Swaps |   Avg. Index Distance |   Avg. Index Distance Normed |   Avg. Right-Move |   Avg. Right-Move Normed |   Right-Move Counts |\n",
      "|:-------------|------------:|----------------------:|-----------------------------:|------------------:|-------------------------:|--------------------:|\n",
      "| MCDO-10      |         292 |                  89.2 |                        0.595 |              44.6 |                    0.297 |                 157 |\n",
      "| MCDO-100     |         294 |                  89.6 |                        0.598 |              44.8 |                    0.299 |                 165 |\n",
      "| DE-10        |         295 |                  88.9 |                        0.592 |              44.4 |                    0.296 |                 157 |\n",
      "| DE-20        |         292 |                  88.9 |                        0.593 |              44.5 |                    0.296 |                 155 |\n",
      "| LA           |         294 |                 102.5 |                        0.683 |              51.2 |                    0.342 |                 144 |\n",
      "| SWAG         |         293 |                 106.6 |                        0.711 |              53.3 |                    0.355 |                 153 |\n",
      "| SWAG-NO-WD   |         294 |                  96.6 |                        0.644 |              48.3 |                    0.322 |                 149 |\n",
      "| VAR-MCDO-10  |         294 |                  84.4 |                        0.562 |              42.2 |                    0.281 |                 159 |\n",
      "| VAR-MCDO-100 |         291 |                  84.5 |                        0.563 |              42.2 |                    0.282 |                 155 |\n",
      "| VAR-DE-10    |         291 |                  81.4 |                        0.542 |              40.7 |                    0.271 |                 160 |\n",
      "| VAR-DE-20    |         292 |                  81.2 |                        0.541 |              40.6 |                    0.271 |                 157 |\n"
     ]
    }
   ],
   "source": [
    "print(\n",
    "    update_col_names(clavicle_df_uq_reorder_ranks)[UQ_BY_ERROR_REORDER_RANKS_COLS].to_markdown(\n",
    "        index=False\n",
    "    )\n",
    ")\n"
   ]
  },
  {
   "attachments": {},
   "cell_type": "markdown",
   "metadata": {},
   "source": [
    "### Latex Tables\n",
    "\n",
    "#### Error / UQ Stats"
   ]
  },
  {
   "cell_type": "code",
   "execution_count": 15,
   "metadata": {},
   "outputs": [
    {
     "name": "stdout",
     "output_type": "stream",
     "text": [
      "\\begin{tabular}{lrr}\n",
      "name & error & uq \\\\\n",
      "Mean-Predictor & 3.852 ± 2.308 & nan ± nan \\\\\n",
      "Baseline & 1.597 ± 1.267 & nan ± nan \\\\\n",
      "MCDO-10 & 1.593 ± 1.270 & 0.635 ± 0.328 \\\\\n",
      "MCDO-100 & 1.594 ± 1.266 & 0.654 ± 0.277 \\\\\n",
      "DE-10 & 1.510 ± 1.170 & 1.504 ± 0.601 \\\\\n",
      "DE-20 & \\bfseries 1.502 ± 1.168 & 1.511 ± 0.531 \\\\\n",
      "LA & 1.590 ± 1.324 & 1.241 ± 0.346 \\\\\n",
      "SWAG & 1.548 ± 1.347 & 2.359 ± 0.601 \\\\\n",
      "SWAG-NO-WD & 1.730 ± 1.392 & 1.826 ± 0.368 \\\\\n",
      "VAR-MCDO-10 & 2.110 ± 1.660 & 3.958 ± 0.630 \\\\\n",
      "VAR-MCDO-100 & 2.073 ± 1.658 & 3.949 ± 0.628 \\\\\n",
      "VAR-DE-10 & 1.776 ± 1.323 & 4.271 ± 0.706 \\\\\n",
      "VAR-DE-20 & 1.753 ± 1.298 & 4.171 ± 0.684 \\\\\n",
      "\\end{tabular}\n",
      "\n"
     ]
    }
   ],
   "source": [
    "print(\n",
    "    clavicle_df_stats[[\"name\", \"error\", \"uq\"]]\n",
    "    .style.highlight_min(subset=[\"error\"], props=\"bfseries: ;\")\n",
    "    .hide(level=0, axis=0)\n",
    "    .format()\n",
    "    .to_latex(column_format=\"lrr\")\n",
    ")\n"
   ]
  },
  {
   "attachments": {},
   "cell_type": "markdown",
   "metadata": {},
   "source": [
    "#### Uncertainty Reorder Ranks"
   ]
  },
  {
   "cell_type": "code",
   "execution_count": 16,
   "metadata": {},
   "outputs": [
    {
     "name": "stdout",
     "output_type": "stream",
     "text": [
      "\\begin{tabular}{lrr}\n",
      "name & sort_avg_idx_distance & sort_avg_idx_distance_norm \\\\\n",
      "MCDO-10 & 89.2 & 0.595 \\\\\n",
      "MCDO-100 & 89.6 & 0.598 \\\\\n",
      "DE-10 & 88.9 & 0.592 \\\\\n",
      "DE-20 & 88.9 & 0.593 \\\\\n",
      "LA & 102.5 & 0.683 \\\\\n",
      "SWAG & 106.6 & 0.711 \\\\\n",
      "SWAG-NO-WD & 96.6 & 0.644 \\\\\n",
      "VAR-MCDO-10 & 84.4 & 0.562 \\\\\n",
      "VAR-MCDO-100 & 84.5 & 0.563 \\\\\n",
      "VAR-DE-10 & 81.4 & 0.542 \\\\\n",
      "VAR-DE-20 & \\bfseries 81.2 & \\bfseries 0.541 \\\\\n",
      "\\end{tabular}\n",
      "\n"
     ]
    }
   ],
   "source": [
    "print(\n",
    "    clavicle_df_uq_reorder_ranks[[\"name\", \"sort_avg_idx_distance\", \"sort_avg_idx_distance_norm\"]]\n",
    "    .style.highlight_min(\n",
    "        subset=[\"sort_avg_idx_distance\", \"sort_avg_idx_distance_norm\"], props=\"bfseries: ;\"\n",
    "    )\n",
    "    .hide(level=0, axis=0)\n",
    "    .format(subset=\"sort_avg_idx_distance\", precision=1)\n",
    "    .format(subset=\"sort_avg_idx_distance_norm\", precision=3)\n",
    "    .to_latex()\n",
    ")\n"
   ]
  }
 ],
 "metadata": {
  "kernelspec": {
   "display_name": "Python 3",
   "language": "python",
   "name": "python3"
  },
  "language_info": {
   "codemirror_mode": {
    "name": "ipython",
    "version": 3
   },
   "file_extension": ".py",
   "mimetype": "text/x-python",
   "name": "python",
   "nbconvert_exporter": "python",
   "pygments_lexer": "ipython3",
   "version": "3.10.8"
  },
  "orig_nbformat": 4,
  "vscode": {
   "interpreter": {
    "hash": "97cc609b13305c559618ec78a438abc56230b9381f827f22d070313b9a1f3777"
   }
  }
 },
 "nbformat": 4,
 "nbformat_minor": 2
}
