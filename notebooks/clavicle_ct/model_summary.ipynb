{
 "cells": [
  {
   "attachments": {},
   "cell_type": "markdown",
   "metadata": {},
   "source": [
    "# Model Summary Clavicle CT"
   ]
  },
  {
   "cell_type": "code",
   "execution_count": 1,
   "metadata": {},
   "outputs": [
    {
     "name": "stderr",
     "output_type": "stream",
     "text": [
      "/usr/local/lib/python3.10/dist-packages/pkg_resources/__init__.py:123: PkgResourcesDeprecationWarning: 0.23ubuntu1 is an invalid version and will not be supported in a future release\n",
      "  warnings.warn(\n"
     ]
    }
   ],
   "source": [
    "from clavicle_ct.net.agenet import agenet18_3d\n",
    "from clavicle_ct.litmodel import LitClavicle\n",
    "from clavicle_ct.data import ClavicleDataModule\n",
    "from torchinfo import summary\n",
    "\n",
    "batch_size = 8\n",
    "annotation_file_train = \"/data_fae_uq/clavicle_ct/annotations_train.csv\"\n",
    "img_train_base_dir = \"/data_fae_uq/clavicle_ct/preprocessed/\"\n",
    "\n",
    "datamodule = ClavicleDataModule(\n",
    "    annotation_file_train=annotation_file_train,\n",
    "    annotation_file_val=None,\n",
    "    annotation_file_test=None,\n",
    "    img_train_base_dir=img_train_base_dir,\n",
    "    batch_size=batch_size,\n",
    "    with_sex_input=True,\n",
    "    num_workers=1,\n",
    ")\n",
    "datamodule.setup(\"train\")\n",
    "x, y = next(iter(datamodule.train_dataloader()))\n"
   ]
  },
  {
   "attachments": {},
   "cell_type": "markdown",
   "metadata": {},
   "source": [
    "### High Level Summary\n",
    "\n",
    "Top-level Summary and first layers of `AgeNet`"
   ]
  },
  {
   "cell_type": "code",
   "execution_count": 2,
   "metadata": {},
   "outputs": [
    {
     "data": {
      "text/plain": [
       "===================================================================================================================\n",
       "Layer (type)                             Input Shape               Output Shape              Param #\n",
       "===================================================================================================================\n",
       "LitClavicle                              [8, 1, 112, 112, 112]     [8, 1]                    --\n",
       "+ AgeNet_3D                              [8, 1, 112, 112, 112]     [8, 1]                    --\n",
       "|    + Conv3d                            [8, 1, 112, 112, 112]     [8, 64, 56, 56, 56]       8,064\n",
       "|    + BatchNorm3d                       [8, 64, 56, 56, 56]       [8, 64, 56, 56, 56]       128\n",
       "|    + ReLU                              [8, 64, 56, 56, 56]       [8, 64, 56, 56, 56]       --\n",
       "|    + MaxPool3d                         [8, 64, 56, 56, 56]       [8, 64, 28, 28, 28]       --\n",
       "|    + Sequential                        [8, 64, 28, 28, 28]       [8, 64, 28, 28, 28]       442,880\n",
       "|    + Sequential                        [8, 64, 28, 28, 28]       [8, 128, 14, 14, 14]      1,557,760\n",
       "|    + Sequential                        [8, 128, 14, 14, 14]      [8, 256, 7, 7, 7]         6,228,480\n",
       "|    + Sequential                        [8, 256, 7, 7, 7]         [8, 512, 4, 4, 4]         24,908,800\n",
       "|    + AdaptiveAvgPool3d                 [8, 512, 4, 4, 4]         [8, 512, 1, 1, 1]         --\n",
       "|    + Dropout                           [8, 512]                  [8, 512]                  --\n",
       "|    + Linear                            [8, 512]                  [8, 496]                  254,448\n",
       "|    + ReLU                              [8, 496]                  [8, 496]                  --\n",
       "|    + Linear                            [8, 1]                    [8, 16]                   32\n",
       "|    + Dropout                           [8, 16]                   [8, 16]                   --\n",
       "|    + Linear                            [8, 512]                  [8, 1]                    513\n",
       "===================================================================================================================\n",
       "Total params: 33,401,105\n",
       "Trainable params: 33,401,105\n",
       "Non-trainable params: 0\n",
       "Total mult-adds (G): 153.02\n",
       "===================================================================================================================\n",
       "Input size (MB): 44.96\n",
       "Forward/backward pass size (MB): 2459.96\n",
       "Params size (MB): 133.60\n",
       "Estimated Total Size (MB): 2638.52\n",
       "==================================================================================================================="
      ]
     },
     "execution_count": 2,
     "metadata": {},
     "output_type": "execute_result"
    }
   ],
   "source": [
    "output_neurons = 1  # not a variance net\n",
    "net = agenet18_3d(use_dropout=True, use_sex=True, num_classes=output_neurons)\n",
    "model = LitClavicle(net=net)\n",
    "\n",
    "summary(\n",
    "    model,\n",
    "    input_data=[x],\n",
    "    col_names=[\"input_size\", \"output_size\", \"num_params\"],\n",
    "    depth=2,\n",
    "    col_width=25,\n",
    "    row_settings=[\"ascii_only\"],\n",
    ")\n"
   ]
  },
  {
   "attachments": {},
   "cell_type": "markdown",
   "metadata": {},
   "source": [
    "### Detailed Architecture of Sequential Block (Building Block Adapted From ResNet)"
   ]
  },
  {
   "cell_type": "code",
   "execution_count": 3,
   "metadata": {},
   "outputs": [
    {
     "data": {
      "text/plain": [
       "===================================================================================================================\n",
       "Layer (type)                             Input Shape               Output Shape              Kernel Shape\n",
       "===================================================================================================================\n",
       "Sequential                               [8, 64, 28, 28, 28]       [8, 64, 28, 28, 28]       --\n",
       "+ BuildingBlock_3D                       [8, 64, 28, 28, 28]       [8, 64, 28, 28, 28]       --\n",
       "|    + Conv3d                            [8, 64, 28, 28, 28]       [8, 64, 28, 28, 28]       [3, 3, 3]\n",
       "|    + BatchNorm3d                       [8, 64, 28, 28, 28]       [8, 64, 28, 28, 28]       --\n",
       "|    + ReLU                              [8, 64, 28, 28, 28]       [8, 64, 28, 28, 28]       --\n",
       "|    + Conv3d                            [8, 64, 28, 28, 28]       [8, 64, 28, 28, 28]       [3, 3, 3]\n",
       "|    + BatchNorm3d                       [8, 64, 28, 28, 28]       [8, 64, 28, 28, 28]       --\n",
       "|    + ReLU                              [8, 64, 28, 28, 28]       [8, 64, 28, 28, 28]       --\n",
       "+ BuildingBlock_3D                       [8, 64, 28, 28, 28]       [8, 64, 28, 28, 28]       --\n",
       "|    + Conv3d                            [8, 64, 28, 28, 28]       [8, 64, 28, 28, 28]       [3, 3, 3]\n",
       "|    + BatchNorm3d                       [8, 64, 28, 28, 28]       [8, 64, 28, 28, 28]       --\n",
       "|    + ReLU                              [8, 64, 28, 28, 28]       [8, 64, 28, 28, 28]       --\n",
       "|    + Conv3d                            [8, 64, 28, 28, 28]       [8, 64, 28, 28, 28]       [3, 3, 3]\n",
       "|    + BatchNorm3d                       [8, 64, 28, 28, 28]       [8, 64, 28, 28, 28]       --\n",
       "|    + ReLU                              [8, 64, 28, 28, 28]       [8, 64, 28, 28, 28]       --\n",
       "===================================================================================================================\n",
       "Total params: 442,880\n",
       "Trainable params: 442,880\n",
       "Non-trainable params: 0\n",
       "Total mult-adds (G): 77.69\n",
       "===================================================================================================================\n",
       "Input size (MB): 44.96\n",
       "Forward/backward pass size (MB): 719.32\n",
       "Params size (MB): 1.77\n",
       "Estimated Total Size (MB): 766.05\n",
       "==================================================================================================================="
      ]
     },
     "execution_count": 3,
     "metadata": {},
     "output_type": "execute_result"
    }
   ],
   "source": [
    "summary(\n",
    "    model.net.layer1,\n",
    "    input_size=(batch_size, 64, 28, 28, 28),\n",
    "    col_names=[\"input_size\", \"output_size\", \"kernel_size\"],\n",
    "    depth=3,\n",
    "    col_width=25,\n",
    "    row_settings=[\"ascii_only\"]\n",
    ")"
   ]
  }
 ],
 "metadata": {
  "kernelspec": {
   "display_name": "Python 3.10.8 64-bit",
   "language": "python",
   "name": "python3"
  },
  "language_info": {
   "codemirror_mode": {
    "name": "ipython",
    "version": 3
   },
   "file_extension": ".py",
   "mimetype": "text/x-python",
   "name": "python",
   "nbconvert_exporter": "python",
   "pygments_lexer": "ipython3",
   "version": "3.10.8"
  },
  "orig_nbformat": 4,
  "vscode": {
   "interpreter": {
    "hash": "97cc609b13305c559618ec78a438abc56230b9381f827f22d070313b9a1f3777"
   }
  }
 },
 "nbformat": 4,
 "nbformat_minor": 2
}
